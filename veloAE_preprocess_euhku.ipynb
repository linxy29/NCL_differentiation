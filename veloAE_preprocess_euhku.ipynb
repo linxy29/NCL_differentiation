{
 "cells": [
  {
   "cell_type": "code",
<<<<<<< HEAD
   "execution_count": null,
=======
   "execution_count": 24,
>>>>>>> 3835af1c151e20c706d286c3ba59398a1f1b9947
   "metadata": {},
   "outputs": [],
   "source": [
    "import anndata\n",
    "import scvelo as scv\n",
    "import pandas as pd\n",
    "import matplotlib.pyplot as plt\n",
    "import numpy as np\n",
    "import scanpy as sc"
   ]
  },
  {
   "cell_type": "code",
   "execution_count": 25,
   "metadata": {},
   "outputs": [],
   "source": [
    "sampleL = [\"ncc\", \"mes\", \"190PBMCiPSC_D7NOTO_drug\", \"190PBMCiPSC_D7NOTO_sample\", \"190PBMCiPSC_D7NT_sample\", \"ThermoFiPSC_D7NOTO_drug\", \"ThermoFiPSC_D7NOTO_sample\", \"ThermoFiPSC_D7NT_sample\"]\n",
<<<<<<< HEAD
    "sample = 'TC'\n",
=======
    "sample = 'ncc_mes_eu'\n",
>>>>>>> 3835af1c151e20c706d286c3ba59398a1f1b9947
    "results_file = '/home/linxy29/holab/linxy/iPSC/veloAE/' + sample + '_seurate.h5ad'  # the file that will store the analysis results"
   ]
  },
  {
   "cell_type": "code",
   "execution_count": 26,
   "metadata": {},
   "outputs": [
    {
     "name": "stdout",
     "output_type": "stream",
     "text": [
      "scanpy==1.9.1 anndata==0.8.0 umap==0.5.3 numpy==1.21.6 scipy==1.7.3 pandas==1.3.5 scikit-learn==1.0.2 statsmodels==0.13.2 pynndescent==0.5.7\n"
     ]
    }
   ],
   "source": [
    "sc.settings.verbosity = 3             # verbosity: errors (0), warnings (1), info (2), hints (3)\n",
    "sc.logging.print_header()\n",
    "sc.settings.set_figure_params(dpi=80, facecolor='white')"
   ]
  },
  {
   "cell_type": "code",
   "execution_count": 27,
   "metadata": {},
   "outputs": [
    {
     "name": "stdout",
     "output_type": "stream",
     "text": [
      "                      x\n",
      "0  AAACCCATCAGCAATC-1_1\n",
      "1  AAACGAACACGGTGCT-1_1\n",
      "2  AAACGAACATTGTCGA-1_1\n",
      "3  AAACGCTCAAGAGGTC-1_1\n",
      "4  AAACGCTGTGCCCGTA-1_1\n",
      "22522\n",
      "                 Unnamed: 0    UMAP_1    UMAP_2\n",
      "0      AAACCCATCAGCAATC-1_1  0.761892  5.784208\n",
      "1      AAACGAACACGGTGCT-1_1 -2.664008  2.284072\n",
      "2      AAACGAACATTGTCGA-1_1 -0.469658  8.824039\n",
      "3      AAACGCTCAAGAGGTC-1_1 -1.168397  8.088729\n",
      "4      AAACGCTGTGCCCGTA-1_1  3.131986  2.131230\n",
      "...                     ...       ...       ...\n",
      "22517  TTTGTTGGTAGACGTG-1_3 -0.302517 -5.987935\n",
      "22518  TTTGTTGGTGAGCGAT-1_3  2.782733 -0.404670\n",
      "22519  TTTGTTGGTTCTCTAT-1_3  3.069862 -1.504854\n",
      "22520  TTTGTTGTCACCTCAC-1_3  0.649504 -9.676390\n",
      "22521  TTTGTTGTCGGATAAA-1_3  3.593241 -8.271546\n",
      "\n",
      "[22522 rows x 3 columns]\n"
     ]
    }
   ],
   "source": [
    "# get meta-data information\n",
    "path = \"/home/linxy29/holab/linxy/iPSC/veloAE/\"\n",
    "cellID_obs = pd.read_csv(path + sample + '_cellID.csv')\n",
    "print(cellID_obs.head())\n",
    "print(len(cellID_obs))\n",
    "umap_cord = pd.read_csv(path + sample + '_embeddings.csv')\n",
    "print(umap_cord)\n",
    "cell_clusters = pd.read_csv(path + sample + '_clusters.csv')"
   ]
  },
  {
   "cell_type": "code",
   "execution_count": 28,
   "metadata": {},
   "outputs": [
    {
     "name": "stdout",
     "output_type": "stream",
     "text": [
      "... reading from cache file cache/home-linxy29-holab-linxy-vivian-ncc_cellranger-outs-filtered_feature_bc_matrix-matrix.h5ad\n",
      "... reading from cache file cache/home-linxy29-holab-linxy-vivian-ncc_cellranger-velocyto-ncc_cellranger.h5ad\n",
      "AnnData object with n_obs × n_vars = 2631 × 36601\n",
      "    var: 'gene_ids', 'feature_types'\n",
      "AnnData object with n_obs × n_vars = 2631 × 36601\n",
      "    obs: 'Clusters', '_X', '_Y'\n",
      "    var: 'Accession', 'Chromosome', 'End', 'Start', 'Strand'\n",
      "    layers: 'ambiguous', 'matrix', 'spliced', 'unspliced'\n",
      "AnnData object with n_obs × n_vars = 2631 × 36601\n",
      "    obs: 'Clusters', '_X', '_Y', 'initial_size_spliced', 'initial_size_unspliced', 'initial_size'\n",
      "    var: 'gene_ids', 'feature_types', 'Accession', 'Chromosome', 'End', 'Start', 'Strand'\n",
      "    layers: 'ambiguous', 'matrix', 'spliced', 'unspliced'\n",
      "Index(['AAACCCATCAGCAATC_1', 'AAACGAACACGGTGCT_1', 'AAACGAACATTGTCGA_1',\n",
      "       'AAACGCTCAAGAGGTC_1', 'AAACGCTGTGCCCGTA_1', 'AAAGAACCAGAGGTAC_1',\n",
      "       'AAAGAACTCTTGCAAG_1', 'AAAGGATCACCATAAC_1', 'AAAGGATCATGGCGCT_1',\n",
      "       'AAAGGGCTCTTGGCTC_1',\n",
      "       ...\n",
      "       'TTTGACTTCAAGTGTC_1', 'TTTGATCAGAGCGACT_1', 'TTTGGAGCATACAGAA_1',\n",
      "       'TTTGGAGTCAAGTCGT_1', 'TTTGGTTGTTTGCCGG_1', 'TTTGGTTTCTCCTACG_1',\n",
      "       'TTTGTTGAGCATGATA_1', 'TTTGTTGAGGTTGTTC_1', 'TTTGTTGCACACGTGC_1',\n",
      "       'TTTGTTGGTTTCCAAG_1'],\n",
      "      dtype='object', length=2631)\n"
     ]
    }
   ],
   "source": [
    "adata = sc.read_10x_mtx('/home/linxy29/holab/linxy/vivian/' + sampleL[0] + '_cellranger/outs/filtered_feature_bc_matrix/', var_names='gene_symbols', cache=True)                             \n",
    "ldata =  scv.read('/home/linxy29/holab/linxy/vivian/' + sampleL[0] + '_cellranger/velocyto/' + sampleL[0] + '_cellranger.loom', cache=True)\n",
    "print(adata)\n",
    "print(ldata)\n",
    "adata = scv.utils.merge(adata, ldata)\n",
    "obs_name_rep = adata.obs_names + '_1'\n",
    "adata.obs_names = obs_name_rep\n",
    "adata.var_names_make_unique()\n",
    "#adata.obs_names = sampleL[0] + '_' + adata.obs_names\n",
    "print(adata)\n",
    "print(adata.obs_names)"
   ]
  },
  {
   "cell_type": "code",
   "execution_count": 29,
   "metadata": {},
   "outputs": [
    {
     "name": "stdout",
     "output_type": "stream",
     "text": [
      "... reading from cache file cache/home-linxy29-holab-linxy-vivian-mes_cellranger-outs-filtered_feature_bc_matrix-matrix.h5ad\n",
      "... reading from cache file cache/home-linxy29-holab-linxy-vivian-mes_cellranger-velocyto-mes_cellranger.h5ad\n",
      "AnnData object with n_obs × n_vars = 10804 × 36601\n",
      "    obs: 'Clusters', '_X', '_Y', 'initial_size_spliced', 'initial_size_unspliced', 'initial_size'\n",
      "    var: 'gene_ids', 'feature_types', 'Accession', 'Chromosome', 'End', 'Start', 'Strand'\n",
      "    layers: 'ambiguous', 'matrix', 'spliced', 'unspliced'\n",
      "AnnData object with n_obs × n_vars = 13435 × 36601\n",
      "    obs: 'Clusters', '_X', '_Y', 'initial_size_spliced', 'initial_size_unspliced', 'initial_size', 'batch'\n",
      "    var: 'gene_ids', 'feature_types', 'Accession', 'Chromosome', 'End', 'Start', 'Strand'\n",
      "    layers: 'ambiguous', 'matrix', 'spliced', 'unspliced'\n"
     ]
    }
   ],
   "source": [
    "## add mes data\n",
    "tempadata = sc.read_10x_mtx('/home/linxy29/holab/linxy/vivian/' + sampleL[1] + '_cellranger/outs/filtered_feature_bc_matrix/', var_names='gene_symbols', cache=True)\n",
    "templdata = scv.read('/home/linxy29/holab/linxy/vivian/' + sampleL[1] + '_cellranger/velocyto/' + sampleL[1] + '_cellranger.loom', cache=True)\n",
    "tempadata = scv.utils.merge(tempadata, templdata)\n",
    "obs_name_rep = tempadata.obs_names + '_2'\n",
    "tempadata.obs_names = obs_name_rep\n",
    "tempadata.var_names_make_unique()\n",
    "print(tempadata)\n",
    "adata = adata.concatenate(tempadata, join='outer', index_unique=None)\n",
    "print(adata)"
   ]
  },
  {
   "cell_type": "code",
   "execution_count": null,
   "metadata": {},
   "outputs": [],
   "source": [
    "for sample in sampleL[2:]:\n",
    "    tempadata = sc.read_10x_mtx('/home/linxy29/holab/linxy/iPSC/day7_velocyto' + sample + '_cellranger/outs/filtered_feature_bc_matrix/', var_names='gene_symbols', cache=True)\n",
    "    templdata = scv.read('/home/linxy29/holab/linxy/vivian/day7_velocyto' + sample + '_cellranger/velocyto/' + sampleL[1] + '_cellranger.loom', cache=True)\n",
    "    tempadata = scv.utils.merge(tempadata, templdata)\n",
    "    obs_name_rep = tempadata.obs_names + '_2'\n",
    "    tempadata.obs_names = obs_name_rep\n",
    "    tempadata.var_names_make_unique()\n",
    "    adata = adata.concatenate(tempdata, join='outer', index_unique=None)\n",
    "print(adata)"
   ]
  },
  {
   "cell_type": "markdown",
   "metadata": {},
   "source": [
    "## barcodes"
   ]
  },
  {
   "cell_type": "code",
   "execution_count": 7,
   "metadata": {},
   "outputs": [
    {
     "name": "stdout",
     "output_type": "stream",
     "text": [
      "Index(['AAACCCATCAGCAATC_1', 'AAACGAACACGGTGCT_1', 'AAACGAACATTGTCGA_1',\n",
      "       'AAACGCTCAAGAGGTC_1', 'AAACGCTGTGCCCGTA_1', 'AAAGAACCAGAGGTAC_1',\n",
      "       'AAAGAACTCTTGCAAG_1', 'AAAGGATCACCATAAC_1', 'AAAGGATCATGGCGCT_1',\n",
      "       'AAAGGGCTCTTGGCTC_1',\n",
      "       ...\n",
      "       'TTTGTTGGTATCGATC_2', 'TTTGTTGGTGCTATTG_2', 'TTTGTTGGTTTACCTT_2',\n",
      "       'TTTGTTGTCAGAGCGA_2', 'TTTGTTGTCATCTGTT_2', 'TTTGTTGTCATTGCGA_2',\n",
      "       'TTTGTTGTCCCAAGTA_2', 'TTTGTTGTCCTGGGAC_2', 'TTTGTTGTCGAGCTGC_2',\n",
      "       'TTTGTTGTCTCATGGA_2'],\n",
      "      dtype='object', length=13435)\n",
      "True\n",
      "13435\n"
     ]
    }
   ],
   "source": [
    "## change obs_names\n",
    "print(adata.obs_names)\n",
    "print(np.unique(adata.obs_names).size == len(adata.obs_names))\n",
    "print(len(adata.obs_names))"
   ]
  },
  {
   "cell_type": "code",
   "execution_count": 8,
   "metadata": {},
   "outputs": [
    {
     "name": "stdout",
     "output_type": "stream",
     "text": [
      "True\n",
      "12778\n",
      "                        x\n",
      "0      AAACCCATCAGCAATC_1\n",
      "1      AAACGAACACGGTGCT_1\n",
      "2      AAACGAACATTGTCGA_1\n",
      "3      AAACGCTCAAGAGGTC_1\n",
      "4      AAACGCTGTGCCCGTA_1\n",
      "...                   ...\n",
      "12773  TTTGTTGTCATTGCGA_2\n",
      "12774  TTTGTTGTCCCAAGTA_2\n",
      "12775  TTTGTTGTCCTGGGAC_2\n",
      "12776  TTTGTTGTCGAGCTGC_2\n",
      "12777  TTTGTTGTCTCATGGA_2\n",
      "\n",
      "[12778 rows x 1 columns]\n"
     ]
    }
   ],
   "source": [
    "## change cellID name in metadata\n",
    "cellID_obs['x'] = cellID_obs['x'].str.replace('-1', '')\n",
    "print(np.unique(cellID_obs['x']).size == len(cellID_obs['x']))  ## check whether have duplicate barcodes\n",
    "print(len(cellID_obs))\n",
    "print(cellID_obs)"
   ]
  },
  {
   "cell_type": "code",
   "execution_count": 9,
   "metadata": {},
   "outputs": [
    {
     "data": {
      "text/plain": [
       "12778"
      ]
     },
     "execution_count": 9,
     "metadata": {},
     "output_type": "execute_result"
    }
   ],
   "source": [
    "filtered_barcode = np.intersect1d(cellID_obs['x'],adata.obs_names)\n",
    "len(filtered_barcode)"
   ]
  },
  {
   "cell_type": "code",
   "execution_count": 10,
   "metadata": {},
   "outputs": [
    {
     "name": "stdout",
     "output_type": "stream",
     "text": [
      "AnnData object with n_obs × n_vars = 12778 × 36601\n",
      "    obs: 'Clusters', '_X', '_Y', 'initial_size_spliced', 'initial_size_unspliced', 'initial_size', 'batch'\n",
      "    var: 'gene_ids', 'feature_types', 'Accession', 'Chromosome', 'End', 'Start', 'Strand'\n",
      "    layers: 'ambiguous', 'matrix', 'spliced', 'unspliced'\n"
     ]
    }
   ],
   "source": [
    "filtered_adata = adata[filtered_barcode].copy()\n",
    "print(filtered_adata)"
   ]
  },
  {
   "cell_type": "markdown",
   "metadata": {},
   "source": [
    "Add UMAP and annotation"
   ]
  },
  {
   "cell_type": "code",
   "execution_count": 11,
   "metadata": {},
   "outputs": [
    {
     "name": "stdout",
     "output_type": "stream",
     "text": [
      "                   CellID\n",
      "0      AAACCCAAGACATCAA_2\n",
      "1      AAACCCAAGACGCATG_2\n",
      "2      AAACCCAAGATGTTGA_2\n",
      "3      AAACCCAAGGTCATCT_2\n",
      "4      AAACCCACAAATCGTC_2\n",
      "...                   ...\n",
      "12773  TTTGTTGTCATTGCGA_2\n",
      "12774  TTTGTTGTCCCAAGTA_2\n",
      "12775  TTTGTTGTCCTGGGAC_2\n",
      "12776  TTTGTTGTCGAGCTGC_2\n",
      "12777  TTTGTTGTCTCATGGA_2\n",
      "\n",
      "[12778 rows x 1 columns]\n"
     ]
    }
   ],
   "source": [
    "adata_index = pd.DataFrame(filtered_adata.obs.index)\n",
    "adata_index.columns = ['CellID']\n",
    "print(adata_index)"
   ]
  },
  {
   "cell_type": "code",
   "execution_count": 12,
   "metadata": {},
   "outputs": [
    {
     "name": "stdout",
     "output_type": "stream",
     "text": [
      "                   CellID    UMAP_1    UMAP_2\n",
      "0      AAACCCATCAGCAATC_1  0.429849 -0.637010\n",
      "1      AAACGAACACGGTGCT_1 -0.086059  3.043773\n",
      "2      AAACGAACATTGTCGA_1  5.846800 -1.497456\n",
      "3      AAACGCTCAAGAGGTC_1  5.576577 -1.535239\n",
      "4      AAACGCTGTGCCCGTA_1 -5.275889 -2.258881\n",
      "...                   ...       ...       ...\n",
      "12773  TTTGTTGTCATTGCGA_2 -6.001294 -2.171401\n",
      "12774  TTTGTTGTCCCAAGTA_2 -2.974015 -7.086884\n",
      "12775  TTTGTTGTCCTGGGAC_2  1.055732 -2.347997\n",
      "12776  TTTGTTGTCGAGCTGC_2  0.694456  5.378472\n",
      "12777  TTTGTTGTCTCATGGA_2  3.848757 -3.835028\n",
      "\n",
      "[12778 rows x 3 columns]\n"
     ]
    }
   ],
   "source": [
    "umap_cord = umap_cord.rename(columns = {'Unnamed: 0':'CellID'})\n",
    "#umap_cord = umap_cord.rename(columns = {'Cell ID':'CellID'})\n",
    "umap_cord['CellID'] = umap_cord['CellID'].str.replace('-1', '')\n",
    "umap_ordered = adata_index.merge(umap_cord, on = \"CellID\")\n",
    "print(umap_cord)"
   ]
  },
  {
   "cell_type": "code",
   "execution_count": 13,
   "metadata": {},
   "outputs": [],
   "source": [
    "umap_ordered = umap_ordered.iloc[:,1:]\n",
    "filtered_adata.obsm['X_umap'] = umap_ordered.values"
   ]
  },
  {
   "cell_type": "code",
   "execution_count": 14,
   "metadata": {},
   "outputs": [
    {
     "name": "stdout",
     "output_type": "stream",
     "text": [
      "                   CellID  x\n",
      "0      AAACCCAAGACATCAA_2  4\n",
      "1      AAACCCAAGACGCATG_2  0\n",
      "2      AAACCCAAGATGTTGA_2  3\n",
      "3      AAACCCAAGGTCATCT_2  9\n",
      "4      AAACCCACAAATCGTC_2  1\n",
      "...                   ... ..\n",
      "12773  TTTGTTGTCATTGCGA_2  6\n",
      "12774  TTTGTTGTCCCAAGTA_2  8\n",
      "12775  TTTGTTGTCCTGGGAC_2  4\n",
      "12776  TTTGTTGTCGAGCTGC_2  2\n",
      "12777  TTTGTTGTCTCATGGA_2  1\n",
      "\n",
      "[12778 rows x 2 columns]\n"
     ]
    }
   ],
   "source": [
    "cell_clusters = cell_clusters.rename(columns = {'Unnamed: 0':'CellID'})\n",
    "cell_clusters['CellID'] = cell_clusters['CellID'].str.replace('-1', '')\n",
    "cell_clusters = adata_index.merge(cell_clusters, on = \"CellID\")\n",
    "print(cell_clusters)"
   ]
  },
  {
   "cell_type": "code",
   "execution_count": 15,
   "metadata": {},
   "outputs": [
    {
     "name": "stdout",
     "output_type": "stream",
     "text": [
      "AnnData object with n_obs × n_vars = 12778 × 36601\n",
      "    obs: 'Clusters', '_X', '_Y', 'initial_size_spliced', 'initial_size_unspliced', 'initial_size', 'batch', 'seurat_clusters'\n",
      "    var: 'gene_ids', 'feature_types', 'Accession', 'Chromosome', 'End', 'Start', 'Strand'\n",
      "    obsm: 'X_umap'\n",
      "    layers: 'ambiguous', 'matrix', 'spliced', 'unspliced'\n"
     ]
    }
   ],
   "source": [
    "cell_clusters = cell_clusters.iloc[:,1:]\n",
    "filtered_adata.obs['seurat_clusters'] = cell_clusters.values\n",
    "print(filtered_adata)"
   ]
  },
  {
   "cell_type": "code",
   "execution_count": 16,
   "metadata": {},
   "outputs": [],
   "source": [
    "filtered_adata.write(results_file)"
   ]
  },
  {
   "cell_type": "code",
   "execution_count": null,
   "metadata": {},
   "outputs": [],
   "source": []
  }
 ],
 "metadata": {
  "kernelspec": {
<<<<<<< HEAD
   "display_name": "Python 3",
=======
   "display_name": "Python 3 (ipykernel)",
>>>>>>> 3835af1c151e20c706d286c3ba59398a1f1b9947
   "language": "python",
   "name": "python3"
  },
  "language_info": {
   "codemirror_mode": {
    "name": "ipython",
    "version": 3
   },
   "file_extension": ".py",
   "mimetype": "text/x-python",
   "name": "python",
   "nbconvert_exporter": "python",
   "pygments_lexer": "ipython3",
   "version": "3.7.12"
  },
  "vscode": {
   "interpreter": {
<<<<<<< HEAD
    "hash": "916dbcbb3f70747c44a77c7bcd40155683ae19c65e1c03b4aa3499c5328201f1"
=======
    "hash": "7344c7d0715a2f7d0deaa4af8fae64638b86a614dee3631f34dd23dde8c417b2"
>>>>>>> 3835af1c151e20c706d286c3ba59398a1f1b9947
   }
  }
 },
 "nbformat": 4,
 "nbformat_minor": 2
}
