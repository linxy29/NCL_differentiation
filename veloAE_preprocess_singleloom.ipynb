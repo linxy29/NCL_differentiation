{
 "cells": [
  {
   "cell_type": "code",
   "execution_count": 1,
   "metadata": {},
   "outputs": [],
   "source": [
    "import scvelo as scv\n",
    "import pandas as pd\n",
    "import numpy as np\n",
    "import scanpy as sc\n",
    "import glob"
   ]
  },
  {
   "cell_type": "code",
   "execution_count": 2,
   "metadata": {},
   "outputs": [],
   "source": [
    "sample = 'ncc'\n",
    "results_file = '/home/linxy29/holab/iPSC/veloAE/' + sample + '_seurate.h5ad'  # the file that will store the analysis results"
   ]
  },
  {
   "cell_type": "code",
   "execution_count": 3,
   "metadata": {},
   "outputs": [
    {
     "name": "stdout",
     "output_type": "stream",
     "text": [
      "scanpy==1.9.1 anndata==0.8.0 umap==0.5.3 numpy==1.21.6 scipy==1.7.3 pandas==1.3.5 scikit-learn==1.0.2 statsmodels==0.13.2 pynndescent==0.5.7\n"
     ]
    }
   ],
   "source": [
    "sc.settings.verbosity = 3             # verbosity: errors (0), warnings (1), info (2), hints (3)\n",
    "sc.logging.print_header()\n",
    "sc.settings.set_figure_params(dpi=80, facecolor='white')"
   ]
  },
  {
   "cell_type": "code",
   "execution_count": 4,
   "metadata": {},
   "outputs": [
    {
     "name": "stdout",
     "output_type": "stream",
     "text": [
      "                    x\n",
      "0  AAACCCATCAGCAATC-1\n",
      "1  AAACGAACACGGTGCT-1\n",
      "2  AAACGAACATTGTCGA-1\n",
      "3  AAACGCTCAAGAGGTC-1\n",
      "4  AAACGCTGTGCCCGTA-1\n",
      "2533\n",
      "              Unnamed: 0    UMAP_1    UMAP_2\n",
      "0     AAACCCATCAGCAATC-1 -2.503784  3.151836\n",
      "1     AAACGAACACGGTGCT-1 -1.282910 -1.604800\n",
      "2     AAACGAACATTGTCGA-1 -1.163274 -4.289365\n",
      "3     AAACGCTCAAGAGGTC-1 -1.973931 -3.207492\n",
      "4     AAACGCTGTGCCCGTA-1  1.331261  5.161453\n",
      "...                  ...       ...       ...\n",
      "2528  TTTGGTTGTTTGCCGG-1 -0.638352  3.165435\n",
      "2529  TTTGGTTTCTCCTACG-1  1.173808  5.169805\n",
      "2530  TTTGTTGAGCATGATA-1 -3.560466  0.789341\n",
      "2531  TTTGTTGCACACGTGC-1  1.230687  2.120469\n",
      "2532  TTTGTTGGTTTCCAAG-1  4.166612 -0.787386\n",
      "\n",
      "[2533 rows x 3 columns]\n"
     ]
    }
   ],
   "source": [
    "# get meta-data information\n",
    "path = \"/home/linxy29/holab/iPSC/veloAE/\"\n",
    "cellID_obs = pd.read_csv(path + sample + '_cellID_obs.csv')\n",
    "print(cellID_obs.head())\n",
    "print(len(cellID_obs))\n",
    "umap_cord = pd.read_csv(path + sample + '_cell_embeddings.csv')\n",
    "print(umap_cord)\n",
    "cell_clusters = pd.read_csv(path + sample + '_clusters.csv')"
   ]
  },
  {
   "cell_type": "code",
   "execution_count": 5,
   "metadata": {},
   "outputs": [
    {
     "name": "stdout",
     "output_type": "stream",
     "text": [
      "... writing an h5ad cache file to speedup reading next time\n",
      "AnnData object with n_obs × n_vars = 2631 × 36601\n",
      "    obs: 'Clusters', '_X', '_Y'\n",
      "    var: 'Accession', 'Chromosome', 'End', 'Start', 'Strand'\n",
      "    layers: 'matrix', 'ambiguous', 'spliced', 'unspliced'\n",
      "Index(['AAAGTCCTCTTAAGGC-1', 'AACAAAGCAGCTCTGG-1', 'AAAGGTAGTCATCCCT-1',\n",
      "       'AACCCAATCCGTGACG-1', 'AACCATGAGATGGTCG-1', 'AAGATAGGTCATTGCA-1',\n",
      "       'AAGGAATCATAGATCC-1', 'AACCATGTCGCACGAC-1', 'AAGCATCTCGTAATGC-1',\n",
      "       'AACAAAGAGTGAGCCA-1',\n",
      "       ...\n",
      "       'TTTGACTAGGCACCAA-1', 'TTTCGATTCGAGCCTG-1', 'TTTGACTTCAAGTGTC-1',\n",
      "       'TTTGTTGAGCATGATA-1', 'TTTCGATAGTGTCATC-1', 'TTTATGCTCTCCATAT-1',\n",
      "       'TTTATGCAGCTACTGT-1', 'TTTGACTGTGCCCAGT-1', 'TTTCGATTCTTTCCAA-1',\n",
      "       'TTTCGATTCCGTGACG-1'],\n",
      "      dtype='object', name='CellID', length=2631)\n"
     ]
    }
   ],
   "source": [
    "## add mes data\n",
    "ldata = scv.read('/home/linxy29/holab/iPSC/' + sample + '_cellranger/velocyto/' + sample + '_cellranger.loom', cache=True)\n",
    "obs_name_rep = ldata.obs_names.str.replace('ncc_cellranger:|x', '') + '-1'\n",
    "ldata.obs_names = obs_name_rep\n",
    "ldata.var_names_make_unique()\n",
    "print(ldata)\n",
    "print(ldata.obs_names)"
   ]
  },
  {
   "cell_type": "markdown",
   "metadata": {},
   "source": [
    "## barcodes"
   ]
  },
  {
   "cell_type": "code",
   "execution_count": 6,
   "metadata": {},
   "outputs": [
    {
     "name": "stdout",
     "output_type": "stream",
     "text": [
      "Whether the barcodes are unique:\n",
      "True\n",
      "The number of barcode:\n",
      "2631\n"
     ]
    }
   ],
   "source": [
    "## change obs_names\n",
    "print(\"Whether the barcodes are unique:\")\n",
    "print(np.unique(ldata.obs_names).size == len(ldata.obs_names))\n",
    "print(\"The number of barcode:\")\n",
    "print(len(ldata.obs_names))"
   ]
  },
  {
   "cell_type": "code",
   "execution_count": 7,
   "metadata": {},
   "outputs": [
    {
     "data": {
      "text/plain": [
       "2533"
      ]
     },
     "execution_count": 7,
     "metadata": {},
     "output_type": "execute_result"
    }
   ],
   "source": [
    "filtered_barcode = np.intersect1d(cellID_obs['x'],ldata.obs_names)\n",
    "len(filtered_barcode)"
   ]
  },
  {
   "cell_type": "code",
   "execution_count": 8,
   "metadata": {},
   "outputs": [
    {
     "name": "stdout",
     "output_type": "stream",
     "text": [
      "AnnData object with n_obs × n_vars = 2533 × 36601\n",
      "    obs: 'Clusters', '_X', '_Y'\n",
      "    var: 'Accession', 'Chromosome', 'End', 'Start', 'Strand'\n",
      "    layers: 'matrix', 'ambiguous', 'spliced', 'unspliced'\n"
     ]
    }
   ],
   "source": [
    "filtered_ldata = ldata[filtered_barcode].copy()\n",
    "print(filtered_ldata)"
   ]
  },
  {
   "cell_type": "markdown",
   "metadata": {},
   "source": [
    "Add UMAP and annotation"
   ]
  },
  {
   "cell_type": "code",
   "execution_count": 9,
   "metadata": {},
   "outputs": [
    {
     "name": "stdout",
     "output_type": "stream",
     "text": [
      "                  CellID\n",
      "0     AAACCCATCAGCAATC-1\n",
      "1     AAACGAACACGGTGCT-1\n",
      "2     AAACGAACATTGTCGA-1\n",
      "3     AAACGCTCAAGAGGTC-1\n",
      "4     AAACGCTGTGCCCGTA-1\n",
      "...                  ...\n",
      "2528  TTTGGTTGTTTGCCGG-1\n",
      "2529  TTTGGTTTCTCCTACG-1\n",
      "2530  TTTGTTGAGCATGATA-1\n",
      "2531  TTTGTTGCACACGTGC-1\n",
      "2532  TTTGTTGGTTTCCAAG-1\n",
      "\n",
      "[2533 rows x 1 columns]\n"
     ]
    }
   ],
   "source": [
    "ldata_index = pd.DataFrame(filtered_ldata.obs.index)\n",
    "ldata_index.columns = ['CellID']\n",
    "print(ldata_index)"
   ]
  },
  {
   "cell_type": "code",
   "execution_count": 10,
   "metadata": {},
   "outputs": [
    {
     "name": "stdout",
     "output_type": "stream",
     "text": [
      "                  CellID    UMAP_1    UMAP_2\n",
      "0     AAACCCATCAGCAATC-1 -2.503784  3.151836\n",
      "1     AAACGAACACGGTGCT-1 -1.282910 -1.604800\n",
      "2     AAACGAACATTGTCGA-1 -1.163274 -4.289365\n",
      "3     AAACGCTCAAGAGGTC-1 -1.973931 -3.207492\n",
      "4     AAACGCTGTGCCCGTA-1  1.331261  5.161453\n",
      "...                  ...       ...       ...\n",
      "2528  TTTGGTTGTTTGCCGG-1 -0.638352  3.165435\n",
      "2529  TTTGGTTTCTCCTACG-1  1.173808  5.169805\n",
      "2530  TTTGTTGAGCATGATA-1 -3.560466  0.789341\n",
      "2531  TTTGTTGCACACGTGC-1  1.230687  2.120469\n",
      "2532  TTTGTTGGTTTCCAAG-1  4.166612 -0.787386\n",
      "\n",
      "[2533 rows x 3 columns]\n"
     ]
    }
   ],
   "source": [
    "umap_cord = umap_cord.rename(columns = {'Unnamed: 0':'CellID'})\n",
    "#umap_cord = umap_cord.rename(columns = {'Cell ID':'CellID'})\n",
    "umap_ordered = ldata_index.merge(umap_cord, on = \"CellID\")\n",
    "print(umap_cord)"
   ]
  },
  {
   "cell_type": "code",
   "execution_count": 11,
   "metadata": {},
   "outputs": [],
   "source": [
    "umap_ordered = umap_ordered.iloc[:,1:]\n",
    "filtered_ldata.obsm['X_umap'] = umap_ordered.values"
   ]
  },
  {
   "cell_type": "code",
   "execution_count": 12,
   "metadata": {},
   "outputs": [
    {
     "name": "stdout",
     "output_type": "stream",
     "text": [
      "                  CellID                          x\n",
      "0     AAACCCATCAGCAATC-1                 Sclerotome\n",
      "1     AAACGAACACGGTGCT-1                 Sclerotome\n",
      "2     AAACGAACATTGTCGA-1      axial skeleton system\n",
      "3     AAACGCTCAAGAGGTC-1                 Sclerotome\n",
      "4     AAACGCTGTGCCCGTA-1  lateral/paraxial mesoderm\n",
      "...                  ...                        ...\n",
      "2528  TTTGGTTGTTTGCCGG-1  lateral/paraxial mesoderm\n",
      "2529  TTTGGTTTCTCCTACG-1  lateral/paraxial mesoderm\n",
      "2530  TTTGTTGAGCATGATA-1                 Sclerotome\n",
      "2531  TTTGTTGCACACGTGC-1           Somitic mesoderm\n",
      "2532  TTTGTTGGTTTCCAAG-1           Somitic mesoderm\n",
      "\n",
      "[2533 rows x 2 columns]\n"
     ]
    }
   ],
   "source": [
    "cell_clusters = cell_clusters.rename(columns = {'Unnamed: 0':'CellID'})\n",
    "cell_clusters = ldata_index.merge(cell_clusters, on = \"CellID\")\n",
    "print(cell_clusters)"
   ]
  },
  {
   "cell_type": "code",
   "execution_count": 13,
   "metadata": {},
   "outputs": [
    {
     "name": "stdout",
     "output_type": "stream",
     "text": [
      "AnnData object with n_obs × n_vars = 2533 × 36601\n",
      "    obs: 'Clusters', '_X', '_Y', 'seurat_clusters'\n",
      "    var: 'Accession', 'Chromosome', 'End', 'Start', 'Strand'\n",
      "    obsm: 'X_umap'\n",
      "    layers: 'matrix', 'ambiguous', 'spliced', 'unspliced'\n"
     ]
    }
   ],
   "source": [
    "cell_clusters = cell_clusters.iloc[:,1:]\n",
    "filtered_ldata.obs['seurat_clusters'] = cell_clusters.values\n",
    "print(filtered_ldata)"
   ]
  },
  {
   "cell_type": "code",
   "execution_count": 25,
   "metadata": {},
   "outputs": [],
   "source": [
    "filtered_ldata.write(results_file)"
   ]
  },
  {
   "cell_type": "code",
   "execution_count": null,
   "metadata": {},
   "outputs": [],
   "source": []
  }
 ],
 "metadata": {
  "kernelspec": {
   "display_name": "Python 3",
   "language": "python",
   "name": "python3"
  },
  "language_info": {
   "codemirror_mode": {
    "name": "ipython",
    "version": 3
   },
   "file_extension": ".py",
   "mimetype": "text/x-python",
   "name": "python",
   "nbconvert_exporter": "python",
   "pygments_lexer": "ipython3",
   "version": "3.7.12"
  },
  "vscode": {
   "interpreter": {
    "hash": "7344c7d0715a2f7d0deaa4af8fae64638b86a614dee3631f34dd23dde8c417b2"
   }
  }
 },
 "nbformat": 4,
 "nbformat_minor": 2
}
