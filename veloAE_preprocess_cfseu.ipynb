{
 "cells": [
  {
   "cell_type": "code",
   "execution_count": 1,
   "metadata": {},
   "outputs": [
    {
     "ename": "ModuleNotFoundError",
     "evalue": "No module named 'scvelo'",
     "output_type": "error",
     "traceback": [
      "\u001b[0;31m---------------------------------------------------------------------------\u001b[0m",
      "\u001b[0;31mModuleNotFoundError\u001b[0m                       Traceback (most recent call last)",
      "Cell \u001b[0;32mIn[1], line 1\u001b[0m\n\u001b[0;32m----> 1\u001b[0m \u001b[39mimport\u001b[39;00m \u001b[39mscvelo\u001b[39;00m \u001b[39mas\u001b[39;00m \u001b[39mscv\u001b[39;00m\n\u001b[1;32m      2\u001b[0m \u001b[39mimport\u001b[39;00m \u001b[39mpandas\u001b[39;00m \u001b[39mas\u001b[39;00m \u001b[39mpd\u001b[39;00m\n\u001b[1;32m      3\u001b[0m \u001b[39mimport\u001b[39;00m \u001b[39mnumpy\u001b[39;00m \u001b[39mas\u001b[39;00m \u001b[39mnp\u001b[39;00m\n",
      "\u001b[0;31mModuleNotFoundError\u001b[0m: No module named 'scvelo'"
     ]
    }
   ],
   "source": [
    "import scvelo as scv\n",
    "import pandas as pd\n",
    "import numpy as np\n",
    "import scanpy as sc\n",
    "import glob\n",
    "import os"
   ]
  },
  {
   "cell_type": "code",
   "execution_count": null,
   "metadata": {},
   "outputs": [],
   "source": [
    "sample = 'cfseu'\n",
    "results_file = '/home/linxy29/holab/iPSC/veloAE/' + sample + '_seurate.h5ad'  # the file that will store the analysis results"
   ]
  },
  {
   "cell_type": "code",
   "execution_count": null,
   "metadata": {},
   "outputs": [
    {
     "name": "stdout",
     "output_type": "stream",
     "text": [
      "scanpy==1.9.1 anndata==0.8.0 umap==0.5.3 numpy==1.21.6 scipy==1.7.3 pandas==1.3.5 scikit-learn==1.0.2 statsmodels==0.13.2 pynndescent==0.5.7\n"
     ]
    }
   ],
   "source": [
    "sc.settings.verbosity = 3             # verbosity: errors (0), warnings (1), info (2), hints (3)\n",
    "sc.logging.print_header()\n",
    "sc.settings.set_figure_params(dpi=80, facecolor='white')"
   ]
  },
  {
   "cell_type": "code",
   "execution_count": null,
   "metadata": {},
   "outputs": [
    {
     "name": "stdout",
     "output_type": "stream",
     "text": [
      "                       x\n",
      "0  EU_AAACCCAAGCCGATCC-1\n",
      "1  EU_AAACCCAAGTACAGCG-1\n",
      "2  EU_AAACCCAGTGCTGATT-1\n",
      "3  EU_AAACCCAGTTTGGCTA-1\n",
      "4  EU_AAACCCATCACTTGGA-1\n",
      "19206\n",
      "                   Unnamed: 0    UMAP_1    UMAP_2\n",
      "0       EU_AAACCCAAGCCGATCC-1 -5.482503  6.744282\n",
      "1       EU_AAACCCAAGTACAGCG-1  6.984378 -2.456347\n",
      "2       EU_AAACCCAGTGCTGATT-1 -4.731649  0.625126\n",
      "3       EU_AAACCCAGTTTGGCTA-1 -5.511836 -1.759254\n",
      "4       EU_AAACCCATCACTTGGA-1 -4.527056  3.496476\n",
      "...                       ...       ...       ...\n",
      "19201  CFS_TTTGTTGCATGCTGCG-1 -5.946149  4.723394\n",
      "19202  CFS_TTTGTTGGTACAGTTC-1 -4.662707 -1.147670\n",
      "19203  CFS_TTTGTTGTCCGCAACG-1 -3.891447  6.155768\n",
      "19204  CFS_TTTGTTGTCCGTGGCA-1  4.999151 -5.996508\n",
      "19205  CFS_TTTGTTGTCGGTAACT-1  6.555681 -2.408121\n",
      "\n",
      "[19206 rows x 3 columns]\n"
     ]
    }
   ],
   "source": [
    "# get meta-data information\n",
    "path = \"/home/linxy29/holab/iPSC/veloAE/\"\n",
    "cellID_obs = pd.read_csv(path + sample + '_cellID_obs.csv')\n",
    "print(cellID_obs.head())\n",
    "print(len(cellID_obs))\n",
    "umap_cord = pd.read_csv(path + sample + '_cell_embeddings.csv')\n",
    "print(umap_cord)\n",
    "cell_clusters = pd.read_csv(path + sample + '_clusters.csv')"
   ]
  },
  {
   "cell_type": "code",
   "execution_count": null,
   "metadata": {},
   "outputs": [
    {
     "name": "stdout",
     "output_type": "stream",
     "text": [
      "['190PBMCiPSC_D7NT_sample_alignments_LNJIY.loom', '190PBMCiPSC_D7NOTO_sample_alignments_OV87U.loom', '190PBMCiPSC_D7NOTO_drug_sample_alignments_P1WVY.loom', 'ThermoFiPSC_D7NT_sample_alignments_Z46BN.loom', 'ThermoFiPSC_D7NOTO_sample_alignments_BT23H.loom', 'ThermoFiPSC_D7NOTO_drug_sample_alignments_PUHUH.loom']\n"
     ]
    }
   ],
   "source": [
    "filenameL = []\n",
    "os.chdir(\"/home/linxy29/holab/iPSC/veloAE/day7_velocyto/\")\n",
    "for file in glob.glob(\"*.loom\"):\n",
    "    filenameL.append(file)\n",
    "print(filenameL)"
   ]
  },
  {
   "cell_type": "code",
   "execution_count": null,
   "metadata": {},
   "outputs": [
    {
     "name": "stdout",
     "output_type": "stream",
     "text": [
      "... reading from cache file cache/home-linxy29-holab-iPSC-veloAE-day7_velocyto-190PBMCiPSC_D7NT_sample_alignments_LNJIY.h5ad\n"
     ]
    }
   ],
   "source": [
    "eudata =  scv.read(\"/home/linxy29/holab/iPSC/veloAE/day7_velocyto/\" + filenameL[0], cache=True)\n",
    "eudata.var_names_make_unique()"
   ]
  },
  {
   "cell_type": "code",
   "execution_count": null,
   "metadata": {},
   "outputs": [
    {
     "name": "stdout",
     "output_type": "stream",
     "text": [
      "... reading from cache file cache/home-linxy29-holab-iPSC-veloAE-day7_velocyto-190PBMCiPSC_D7NOTO_sample_alignments_OV87U.h5ad\n",
      "... reading from cache file cache/home-linxy29-holab-iPSC-veloAE-day7_velocyto-190PBMCiPSC_D7NOTO_drug_sample_alignments_P1WVY.h5ad\n",
      "... reading from cache file cache/home-linxy29-holab-iPSC-veloAE-day7_velocyto-ThermoFiPSC_D7NT_sample_alignments_Z46BN.h5ad\n",
      "... reading from cache file cache/home-linxy29-holab-iPSC-veloAE-day7_velocyto-ThermoFiPSC_D7NOTO_sample_alignments_BT23H.h5ad\n",
      "... reading from cache file cache/home-linxy29-holab-iPSC-veloAE-day7_velocyto-ThermoFiPSC_D7NOTO_drug_sample_alignments_PUHUH.h5ad\n",
      "AnnData object with n_obs × n_vars = 10656 × 61544\n",
      "    obs: 'batch'\n",
      "    var: 'Accession', 'Chromosome', 'End', 'Start', 'Strand'\n",
      "    layers: 'ambiguous', 'matrix', 'spliced', 'unspliced'\n",
      "Index(['EU_ACCCAAATCACTACTT-1', 'EU_AAGACAATCCTAGCGG-1',\n",
      "       'EU_AAACGCTAGCGTCTGC-1', 'EU_AAGCGAGGTGTCGATT-1',\n",
      "       'EU_AAAGTCCAGACCATGG-1', 'EU_AAAGGTAGTAGCACGA-1',\n",
      "       'EU_AACGGGAAGGTAACTA-1', 'EU_ACATTTCGTGAGATCG-1',\n",
      "       'EU_AAACGAAAGCCTGTCG-1', 'EU_AATCACGGTACCGTCG-1',\n",
      "       ...\n",
      "       'EU_TTGGGTAGTTTGTGGT-1', 'EU_TTGTGTTCAGCCGGTT-1',\n",
      "       'EU_TTCTAACAGACCGCCT-1', 'EU_TTTGTTGAGGCACCAA-1',\n",
      "       'EU_TTCGGTCAGGGATGTC-1', 'EU_TTGTTCAGTTATCCAG-1',\n",
      "       'EU_TTCTAGTAGTTCTCTT-1', 'EU_TTTGGTTAGGGCAATC-1',\n",
      "       'EU_TTCCGTGTCCGACAGC-1', 'EU_TTGCGTCAGTTGGACG-1'],\n",
      "      dtype='object', length=10656)\n",
      "True\n"
     ]
    }
   ],
   "source": [
    "for sample in filenameL[1:]:\n",
    "    tempdata = scv.read(\"/home/linxy29/holab/iPSC/veloAE/day7_velocyto/\" + sample, cache=True)\n",
    "    tempdata.var_names_make_unique()\n",
    "    eudata = eudata.concatenate(tempdata, join='outer', index_unique=None)\n",
    "print(eudata)\n",
    "obs_name_temp = eudata.obs_names.str.split(\":\")\n",
    "eudata.obs_names = ['EU_' + item[1] + '-1' for item in obs_name_temp]\n",
    "print(eudata.obs_names)\n",
    "print(np.unique(eudata.obs_names).size == len(eudata.obs_names))"
   ]
  },
  {
   "cell_type": "code",
   "execution_count": null,
   "metadata": {},
   "outputs": [
    {
     "name": "stdout",
     "output_type": "stream",
     "text": [
      "... reading from cache file cache/home-linxy29-holab-iPSC-cfs_cellranger-velocyto-cfs_cellranger.h5ad\n",
      "AnnData object with n_obs × n_vars = 10275 × 36601\n",
      "    obs: 'Clusters', '_X', '_Y'\n",
      "    var: 'Accession', 'Chromosome', 'End', 'Start', 'Strand'\n",
      "    layers: 'ambiguous', 'matrix', 'spliced', 'unspliced'\n",
      "Index(['CFS_AAAGGTACACTCTAGA-1', 'CFS_AAACGAACAAACTCTG-1',\n",
      "       'CFS_AAACCCAGTAATCAGA-1', 'CFS_AAACGCTCAGAGTCAG-1',\n",
      "       'CFS_AAAGGATAGAGGGTCT-1', 'CFS_AAAGGATAGTAATCCC-1',\n",
      "       'CFS_AAACGCTCAGCATCTA-1', 'CFS_AAAGGATCATTGCAAC-1',\n",
      "       'CFS_AAACGAAGTCATAGTC-1', 'CFS_AAACCCATCGTGTGAT-1',\n",
      "       ...\n",
      "       'CFS_TTTCAGTAGGTCATAA-1', 'CFS_TTTGACTTCTTCGATT-1',\n",
      "       'CFS_TTTCCTCTCGGCCCAA-1', 'CFS_TTTGATCGTGTTCCAA-1',\n",
      "       'CFS_TTTGATCGTCCACACG-1', 'CFS_TTTCATGGTAGGTGCA-1',\n",
      "       'CFS_TTTGATCAGGAATGTT-1', 'CFS_TTTCGATTCACGTAGT-1',\n",
      "       'CFS_TTTCGATTCCACTTTA-1', 'CFS_TTTGTTGAGTGCAACG-1'],\n",
      "      dtype='object', length=10275)\n",
      "True\n"
     ]
    }
   ],
   "source": [
    "## add cfs data\n",
    "cur_sample = 'cfs'\n",
    "ldata = scv.read('/home/linxy29/holab/iPSC/' + cur_sample + '_cellranger/velocyto/' + cur_sample + '_cellranger.loom', cache=True)\n",
    "obs_name_rep = ldata.obs_names.str.replace('cfs_cellranger:|x', '') + '-1'\n",
    "ldata.obs_names = ['CFS_' + item for item in obs_name_rep]\n",
    "ldata.var_names_make_unique()\n",
    "print(ldata)\n",
    "print(ldata.obs_names)\n",
    "print(np.unique(ldata.obs_names).size == len(ldata.obs_names))"
   ]
  },
  {
   "cell_type": "code",
   "execution_count": null,
   "metadata": {},
   "outputs": [
    {
     "name": "stdout",
     "output_type": "stream",
     "text": [
      "AnnData object with n_obs × n_vars = 20931 × 74559\n",
      "    obs: 'Clusters', '_X', '_Y', 'batch'\n",
      "    var: 'Accession-0', 'Chromosome-0', 'End-0', 'Start-0', 'Strand-0', 'Accession-1', 'Chromosome-1', 'End-1', 'Start-1', 'Strand-1'\n",
      "    layers: 'ambiguous', 'matrix', 'spliced', 'unspliced'\n"
     ]
    }
   ],
   "source": [
    "ldata = ldata.concatenate(eudata, join='outer', index_unique=None)\n",
    "print(ldata)"
   ]
  },
  {
   "cell_type": "markdown",
   "metadata": {},
   "source": [
    "## barcodes"
   ]
  },
  {
   "cell_type": "code",
   "execution_count": null,
   "metadata": {},
   "outputs": [
    {
     "name": "stdout",
     "output_type": "stream",
     "text": [
      "Index(['CFS_AAAGGTACACTCTAGA-1', 'CFS_AAACGAACAAACTCTG-1',\n",
      "       'CFS_AAACCCAGTAATCAGA-1', 'CFS_AAACGCTCAGAGTCAG-1',\n",
      "       'CFS_AAAGGATAGAGGGTCT-1', 'CFS_AAAGGATAGTAATCCC-1',\n",
      "       'CFS_AAACGCTCAGCATCTA-1', 'CFS_AAAGGATCATTGCAAC-1',\n",
      "       'CFS_AAACGAAGTCATAGTC-1', 'CFS_AAACCCATCGTGTGAT-1',\n",
      "       ...\n",
      "       'EU_TTGGGTAGTTTGTGGT-1', 'EU_TTGTGTTCAGCCGGTT-1',\n",
      "       'EU_TTCTAACAGACCGCCT-1', 'EU_TTTGTTGAGGCACCAA-1',\n",
      "       'EU_TTCGGTCAGGGATGTC-1', 'EU_TTGTTCAGTTATCCAG-1',\n",
      "       'EU_TTCTAGTAGTTCTCTT-1', 'EU_TTTGGTTAGGGCAATC-1',\n",
      "       'EU_TTCCGTGTCCGACAGC-1', 'EU_TTGCGTCAGTTGGACG-1'],\n",
      "      dtype='object', length=20931)\n",
      "True\n",
      "20931\n"
     ]
    }
   ],
   "source": [
    "## change obs_names\n",
    "print(ldata.obs_names)\n",
    "print(np.unique(ldata.obs_names).size == len(ldata.obs_names))\n",
    "print(len(ldata.obs_names))"
   ]
  },
  {
   "cell_type": "code",
   "execution_count": null,
   "metadata": {},
   "outputs": [
    {
     "name": "stdout",
     "output_type": "stream",
     "text": [
      "True\n",
      "19206\n"
     ]
    }
   ],
   "source": [
    "## change cellID name in metadata\n",
    "print(np.unique(cellID_obs['x']).size == len(cellID_obs['x']))  ## check whether have duplicate barcodes\n",
    "print(len(cellID_obs))"
   ]
  },
  {
   "cell_type": "code",
   "execution_count": null,
   "metadata": {},
   "outputs": [
    {
     "data": {
      "text/plain": [
       "18708"
      ]
     },
     "execution_count": 12,
     "metadata": {},
     "output_type": "execute_result"
    }
   ],
   "source": [
    "filtered_barcode = np.intersect1d(cellID_obs['x'],ldata.obs_names)\n",
    "len(filtered_barcode)"
   ]
  },
  {
   "cell_type": "code",
   "execution_count": null,
   "metadata": {},
   "outputs": [
    {
     "name": "stdout",
     "output_type": "stream",
     "text": [
      "AnnData object with n_obs × n_vars = 18708 × 74559\n",
      "    obs: 'Clusters', '_X', '_Y', 'batch'\n",
      "    var: 'Accession-0', 'Chromosome-0', 'End-0', 'Start-0', 'Strand-0', 'Accession-1', 'Chromosome-1', 'End-1', 'Start-1', 'Strand-1'\n",
      "    layers: 'ambiguous', 'matrix', 'spliced', 'unspliced'\n"
     ]
    }
   ],
   "source": [
    "## subset filtered_barcode in ldata\n",
    "filtered_ldata = ldata[filtered_barcode].copy()\n",
    "print(filtered_ldata)"
   ]
  },
  {
   "cell_type": "markdown",
   "metadata": {},
   "source": [
    "Add UMAP and annotation"
   ]
  },
  {
   "cell_type": "code",
   "execution_count": null,
   "metadata": {},
   "outputs": [
    {
     "name": "stdout",
     "output_type": "stream",
     "text": [
      "                       CellID\n",
      "0      CFS_AAACCCAAGACATATG-1\n",
      "1      CFS_AAACCCAAGATAGCTA-1\n",
      "2      CFS_AAACCCAAGGCCTGCT-1\n",
      "3      CFS_AAACCCAAGGTCACAG-1\n",
      "4      CFS_AAACCCAAGTCAGCCC-1\n",
      "...                       ...\n",
      "18703   EU_TTTGTTGCATCTCAAG-1\n",
      "18704   EU_TTTGTTGGTAGACGTG-1\n",
      "18705   EU_TTTGTTGGTGAGCGAT-1\n",
      "18706   EU_TTTGTTGGTTCTCTAT-1\n",
      "18707   EU_TTTGTTGTCACCTCAC-1\n",
      "\n",
      "[18708 rows x 1 columns]\n"
     ]
    }
   ],
   "source": [
    "ldata_index = pd.DataFrame(filtered_ldata.obs.index)\n",
    "ldata_index.columns = ['CellID']\n",
    "print(ldata_index)"
   ]
  },
  {
   "cell_type": "code",
   "execution_count": null,
   "metadata": {},
   "outputs": [
    {
     "name": "stdout",
     "output_type": "stream",
     "text": [
      "                       CellID    UMAP_1    UMAP_2\n",
      "0       EU_AAACCCAAGCCGATCC-1 -5.482503  6.744282\n",
      "1       EU_AAACCCAAGTACAGCG-1  6.984378 -2.456347\n",
      "2       EU_AAACCCAGTGCTGATT-1 -4.731649  0.625126\n",
      "3       EU_AAACCCAGTTTGGCTA-1 -5.511836 -1.759254\n",
      "4       EU_AAACCCATCACTTGGA-1 -4.527056  3.496476\n",
      "...                       ...       ...       ...\n",
      "19201  CFS_TTTGTTGCATGCTGCG-1 -5.946149  4.723394\n",
      "19202  CFS_TTTGTTGGTACAGTTC-1 -4.662707 -1.147670\n",
      "19203  CFS_TTTGTTGTCCGCAACG-1 -3.891447  6.155768\n",
      "19204  CFS_TTTGTTGTCCGTGGCA-1  4.999151 -5.996508\n",
      "19205  CFS_TTTGTTGTCGGTAACT-1  6.555681 -2.408121\n",
      "\n",
      "[19206 rows x 3 columns]\n"
     ]
    }
   ],
   "source": [
    "umap_cord = umap_cord.rename(columns = {'Unnamed: 0':'CellID'})\n",
    "#umap_cord = umap_cord.rename(columns = {'Cell ID':'CellID'})\n",
    "umap_ordered = ldata_index.merge(umap_cord, on = \"CellID\")\n",
    "print(umap_cord)"
   ]
  },
  {
   "cell_type": "code",
   "execution_count": null,
   "metadata": {},
   "outputs": [],
   "source": [
    "umap_ordered = umap_ordered.iloc[:,1:]\n",
    "filtered_ldata.obsm['X_umap'] = umap_ordered.values"
   ]
  },
  {
   "cell_type": "code",
   "execution_count": null,
   "metadata": {},
   "outputs": [
    {
     "name": "stdout",
     "output_type": "stream",
     "text": [
      "                       CellID                              x\n",
      "0      CFS_AAACCCAAGACATATG-1    neuromesodermal progenitors\n",
      "1      CFS_AAACCCAAGATAGCTA-1                  neuroectoderm\n",
      "2      CFS_AAACCCAAGGCCTGCT-1                      notochord\n",
      "3      CFS_AAACCCAAGGTCACAG-1  paraxial mesoderm progenitors\n",
      "4      CFS_AAACCCAAGTCAGCCC-1              axial progenitors\n",
      "...                       ...                            ...\n",
      "18703   EU_TTTGTTGCATCTCAAG-1               primitive streak\n",
      "18704   EU_TTTGTTGGTAGACGTG-1                  neuroectoderm\n",
      "18705   EU_TTTGTTGGTGAGCGAT-1                        cardiac\n",
      "18706   EU_TTTGTTGGTTCTCTAT-1  paraxial mesoderm progenitors\n",
      "18707   EU_TTTGTTGTCACCTCAC-1               primitive streak\n",
      "\n",
      "[18708 rows x 2 columns]\n"
     ]
    }
   ],
   "source": [
    "cell_clusters = cell_clusters.rename(columns = {'Unnamed: 0':'CellID'})\n",
    "cell_clusters = ldata_index.merge(cell_clusters, on = \"CellID\")\n",
    "print(cell_clusters)"
   ]
  },
  {
   "cell_type": "code",
   "execution_count": null,
   "metadata": {},
   "outputs": [
    {
     "name": "stdout",
     "output_type": "stream",
     "text": [
      "AnnData object with n_obs × n_vars = 18708 × 74559\n",
      "    obs: 'Clusters', '_X', '_Y', 'batch', 'seurat_clusters'\n",
      "    var: 'Accession-0', 'Chromosome-0', 'End-0', 'Start-0', 'Strand-0', 'Accession-1', 'Chromosome-1', 'End-1', 'Start-1', 'Strand-1'\n",
      "    obsm: 'X_umap'\n",
      "    layers: 'ambiguous', 'matrix', 'spliced', 'unspliced'\n"
     ]
    }
   ],
   "source": [
    "cell_clusters = cell_clusters.iloc[:,1:]\n",
    "filtered_ldata.obs['seurat_clusters'] = cell_clusters.values\n",
    "print(filtered_ldata)"
   ]
  },
  {
   "cell_type": "code",
   "execution_count": null,
   "metadata": {},
   "outputs": [
    {
     "ename": "",
     "evalue": "",
     "output_type": "error",
     "traceback": [
      "\u001b[1;31mThe Kernel crashed while executing code in the the current cell or a previous cell. Please review the code in the cell(s) to identify a possible cause of the failure. Click <a href='https://aka.ms/vscodeJupyterKernelCrash'>here</a> for more info. View Jupyter <a href='command:jupyter.viewOutput'>log</a> for further details."
     ]
    }
   ],
   "source": [
    "filtered_ldata.write(results_file)"
   ]
  },
  {
   "cell_type": "code",
   "execution_count": null,
   "metadata": {},
   "outputs": [],
   "source": []
  }
 ],
 "metadata": {
  "kernelspec": {
   "display_name": "Python 3",
   "language": "python",
   "name": "python3"
  },
  "language_info": {
   "codemirror_mode": {
    "name": "ipython",
    "version": 3
   },
   "file_extension": ".py",
   "mimetype": "text/x-python",
   "name": "python",
   "nbconvert_exporter": "python",
   "pygments_lexer": "ipython3",
   "version": "3.11.3"
  },
  "vscode": {
   "interpreter": {
    "hash": "7344c7d0715a2f7d0deaa4af8fae64638b86a614dee3631f34dd23dde8c417b2"
   }
  }
 },
 "nbformat": 4,
 "nbformat_minor": 2
}
