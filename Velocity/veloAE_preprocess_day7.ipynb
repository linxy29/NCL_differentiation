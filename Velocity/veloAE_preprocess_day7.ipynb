{
 "cells": [
  {
   "cell_type": "code",
   "execution_count": 2,
   "metadata": {},
   "outputs": [],
   "source": [
    "import scvelo as scv\n",
    "import pandas as pd\n",
    "import matplotlib.pyplot as plt\n",
    "import numpy as np\n",
    "import scanpy as sc\n",
    "import glob\n",
    "import os"
   ]
  },
  {
   "cell_type": "code",
   "execution_count": 3,
   "metadata": {},
   "outputs": [],
   "source": [
    "sample = 'day7'\n",
    "results_file = '/home/linxy29/holab/iPSC/veloAE/' + sample + '_seurate.h5ad'  # the file that will store the analysis results"
   ]
  },
  {
   "cell_type": "code",
   "execution_count": 4,
   "metadata": {},
   "outputs": [
    {
     "name": "stdout",
     "output_type": "stream",
     "text": [
      "scanpy==1.9.1 anndata==0.8.0 umap==0.5.3 numpy==1.21.6 scipy==1.7.3 pandas==1.3.5 scikit-learn==1.0.2 statsmodels==0.13.2 pynndescent==0.5.7\n"
     ]
    }
   ],
   "source": [
    "sc.settings.verbosity = 3             # verbosity: errors (0), warnings (1), info (2), hints (3)\n",
    "sc.logging.print_header()\n",
    "sc.settings.set_figure_params(dpi=80, facecolor='white')"
   ]
  },
  {
   "cell_type": "code",
   "execution_count": 5,
   "metadata": {},
   "outputs": [
    {
     "name": "stdout",
     "output_type": "stream",
     "text": [
      "                    x\n",
      "0  AAACCCAAGCCGATCC-1\n",
      "1  AAACCCAAGTACAGCG-1\n",
      "2  AAACCCAGTGCTGATT-1\n",
      "3  AAACCCAGTTTGGCTA-1\n",
      "4  AAACCCATCACTTGGA-1\n",
      "9744\n",
      "              Unnamed: 0    UMAP_1    UMAP_2\n",
      "0     AAACCCAAGCCGATCC-1  0.153307 -7.623546\n",
      "1     AAACCCAAGTACAGCG-1  5.897146  2.633477\n",
      "2     AAACCCAGTGCTGATT-1 -5.536019 -6.625185\n",
      "3     AAACCCAGTTTGGCTA-1 -7.391526 -0.720508\n",
      "4     AAACCCATCACTTGGA-1 -2.355847 -5.528623\n",
      "...                  ...       ...       ...\n",
      "9739  TTTGTTGGTAGACGTG-1 -1.424601 -6.192325\n",
      "9740  TTTGTTGGTGAGCGAT-1  6.826642  9.918284\n",
      "9741  TTTGTTGGTTCTCTAT-1  3.751490  3.653710\n",
      "9742  TTTGTTGTCACCTCAC-1 -3.714295  2.119375\n",
      "9743  TTTGTTGTCGGATAAA-1 -5.586266 -0.573459\n",
      "\n",
      "[9744 rows x 3 columns]\n",
      "              Unnamed: 0                                      x\n",
      "0     AAACCCAAGCCGATCC-1                          Neuroectoderm\n",
      "1     AAACCCAAGTACAGCG-1                              Notochord\n",
      "2     AAACCCAGTGCTGATT-1            Neuromesodermal progenitors\n",
      "3     AAACCCAGTTTGGCTA-1            Primitive streak (cluster4)\n",
      "4     AAACCCATCACTTGGA-1            Neuromesodermal progenitors\n",
      "...                  ...                                    ...\n",
      "9739  TTTGTTGGTAGACGTG-1                          Neuroectoderm\n",
      "9740  TTTGTTGGTGAGCGAT-1                       Cardiac mesoderm\n",
      "9741  TTTGTTGGTTCTCTAT-1  Lateral/paraxial mesoderm progenitors\n",
      "9742  TTTGTTGTCACCTCAC-1            Primitive streak (cluster3)\n",
      "9743  TTTGTTGTCGGATAAA-1            Primitive streak (cluster4)\n",
      "\n",
      "[9744 rows x 2 columns]\n"
     ]
    }
   ],
   "source": [
    "# get meta-data information\n",
    "path = \"/home/linxy29/holab/iPSC/veloAE/\"\n",
    "cellID_obs = pd.read_csv(path + sample + '_cellID_obs.csv')\n",
    "print(cellID_obs.head())\n",
    "print(len(cellID_obs))\n",
    "umap_cord = pd.read_csv(path + sample + '_cell_embeddings.csv')\n",
    "print(umap_cord)\n",
    "cell_clusters = pd.read_csv(path + sample + '_clusters.csv')\n",
    "print(cell_clusters)"
   ]
  },
  {
   "cell_type": "code",
   "execution_count": 6,
   "metadata": {},
   "outputs": [
    {
     "name": "stdout",
     "output_type": "stream",
     "text": [
      "['ThermoFiPSC_D7NT_sample_alignments_Z46BN.loom', 'ThermoFiPSC_D7NOTO_sample_alignments_BT23H.loom', 'ThermoFiPSC_D7NOTO_drug_sample_alignments_PUHUH.loom', '190PBMCiPSC_D7NT_sample_alignments_LNJIY.loom', '190PBMCiPSC_D7NOTO_sample_alignments_OV87U.loom', '190PBMCiPSC_D7NOTO_drug_sample_alignments_P1WVY.loom']\n"
     ]
    }
   ],
   "source": [
    "filenameL = []\n",
    "os.chdir(\"/home/linxy29/holab/iPSC/veloAE/\")\n",
    "for file in glob.glob(\"*.loom\"):\n",
    "    filenameL.append(file)\n",
    "print(filenameL)"
   ]
  },
  {
   "cell_type": "code",
   "execution_count": 7,
   "metadata": {},
   "outputs": [
    {
     "name": "stdout",
     "output_type": "stream",
     "text": [
      "... reading from cache file cache/home-linxy29-holab-iPSC-veloAE-ThermoFiPSC_D7NT_sample_alignments_Z46BN.h5ad\n"
     ]
    }
   ],
   "source": [
    "ldata =  scv.read(\"/home/linxy29/holab/iPSC/veloAE/\" + filenameL[0], cache=True)\n",
    "ldata.var_names_make_unique()"
   ]
  },
  {
   "cell_type": "code",
   "execution_count": 8,
   "metadata": {},
   "outputs": [
    {
     "name": "stdout",
     "output_type": "stream",
     "text": [
      "... reading from cache file cache/home-linxy29-holab-iPSC-veloAE-ThermoFiPSC_D7NOTO_sample_alignments_BT23H.h5ad\n",
      "... reading from cache file cache/home-linxy29-holab-iPSC-veloAE-ThermoFiPSC_D7NOTO_drug_sample_alignments_PUHUH.h5ad\n",
      "... reading from cache file cache/home-linxy29-holab-iPSC-veloAE-190PBMCiPSC_D7NT_sample_alignments_LNJIY.h5ad\n",
      "... reading from cache file cache/home-linxy29-holab-iPSC-veloAE-190PBMCiPSC_D7NOTO_sample_alignments_OV87U.h5ad\n",
      "... reading from cache file cache/home-linxy29-holab-iPSC-veloAE-190PBMCiPSC_D7NOTO_drug_sample_alignments_P1WVY.h5ad\n",
      "AnnData object with n_obs × n_vars = 10656 × 61544\n",
      "    obs: 'batch'\n",
      "    var: 'Accession', 'Chromosome', 'End', 'Start', 'Strand'\n",
      "    layers: 'ambiguous', 'matrix', 'spliced', 'unspliced'\n",
      "Index(['AAGGTAACAGGTTTAC-1', 'AACCTGACATGAAGCG-1', 'AAGGAATGTCGCGTTG-1',\n",
      "       'AACCAACAGTCACGAG-1', 'AAGAACAGTATTCCTT-1', 'AAGACTCTCTTTGATC-1',\n",
      "       'AAGCGTTTCATAGAGA-1', 'AACCAACTCGCCGATG-1', 'AAGCGAGGTCTTGTCC-1',\n",
      "       'ACGATGTGTGGAGAAA-1',\n",
      "       ...\n",
      "       'TTGGATGTCAACGTGT-1', 'TTAGGGTGTCAGTCGC-1', 'TTTCGATCAAGACGGT-1',\n",
      "       'TTTGGTTAGTGAGCCA-1', 'TTTATGCTCAGGACGA-1', 'TTTGATCAGTGGCCTC-1',\n",
      "       'TTTGTTGGTAGACGTG-1', 'TTTCGATTCCTGGGAC-1', 'TTTCGATAGTAGGATT-1',\n",
      "       'TTTGGAGAGGTAACTA-1'],\n",
      "      dtype='object', length=10656)\n"
     ]
    }
   ],
   "source": [
    "for sample in filenameL[1:]:\n",
    "    tempdata = scv.read(\"/home/linxy29/holab/iPSC/veloAE/\" + sample, cache=True)\n",
    "    tempdata.var_names_make_unique()\n",
    "    ldata = ldata.concatenate(tempdata, join='outer', index_unique=None)\n",
    "print(ldata)\n",
    "obs_name_temp = ldata.obs_names.str.split(\":\")\n",
    "ldata.obs_names = [item[1] + '-1' for item in obs_name_temp]\n",
    "print(ldata.obs_names)"
   ]
  },
  {
   "cell_type": "markdown",
   "metadata": {},
   "source": [
    "## barcode"
   ]
  },
  {
   "cell_type": "code",
   "execution_count": 9,
   "metadata": {},
   "outputs": [
    {
     "name": "stdout",
     "output_type": "stream",
     "text": [
      "Index(['AAGGTAACAGGTTTAC-1', 'AACCTGACATGAAGCG-1', 'AAGGAATGTCGCGTTG-1',\n",
      "       'AACCAACAGTCACGAG-1', 'AAGAACAGTATTCCTT-1', 'AAGACTCTCTTTGATC-1',\n",
      "       'AAGCGTTTCATAGAGA-1', 'AACCAACTCGCCGATG-1', 'AAGCGAGGTCTTGTCC-1',\n",
      "       'ACGATGTGTGGAGAAA-1',\n",
      "       ...\n",
      "       'TTGGATGTCAACGTGT-1', 'TTAGGGTGTCAGTCGC-1', 'TTTCGATCAAGACGGT-1',\n",
      "       'TTTGGTTAGTGAGCCA-1', 'TTTATGCTCAGGACGA-1', 'TTTGATCAGTGGCCTC-1',\n",
      "       'TTTGTTGGTAGACGTG-1', 'TTTCGATTCCTGGGAC-1', 'TTTCGATAGTAGGATT-1',\n",
      "       'TTTGGAGAGGTAACTA-1'],\n",
      "      dtype='object', length=10656)\n",
      "True\n",
      "10656\n"
     ]
    }
   ],
   "source": [
    "## change obs_names\n",
    "print(ldata.obs_names)\n",
    "print(np.unique(ldata.obs_names).size == len(ldata.obs_names))\n",
    "print(len(ldata.obs_names))"
   ]
  },
  {
   "cell_type": "code",
   "execution_count": 10,
   "metadata": {},
   "outputs": [
    {
     "data": {
      "text/plain": [
       "9246"
      ]
     },
     "execution_count": 10,
     "metadata": {},
     "output_type": "execute_result"
    }
   ],
   "source": [
    "filtered_barcode = np.intersect1d(cellID_obs['x'],ldata.obs_names)\n",
    "len(filtered_barcode)"
   ]
  },
  {
   "cell_type": "code",
   "execution_count": 11,
   "metadata": {},
   "outputs": [
    {
     "name": "stdout",
     "output_type": "stream",
     "text": [
      "AnnData object with n_obs × n_vars = 9246 × 61544\n",
      "    obs: 'batch'\n",
      "    var: 'Accession', 'Chromosome', 'End', 'Start', 'Strand'\n",
      "    layers: 'ambiguous', 'matrix', 'spliced', 'unspliced'\n"
     ]
    }
   ],
   "source": [
    "filtered_ldata = ldata[filtered_barcode].copy()\n",
    "print(filtered_ldata)"
   ]
  },
  {
   "cell_type": "markdown",
   "metadata": {},
   "source": [
    "### Add UMAP and annotation"
   ]
  },
  {
   "cell_type": "code",
   "execution_count": 12,
   "metadata": {},
   "outputs": [
    {
     "name": "stdout",
     "output_type": "stream",
     "text": [
      "                  CellID\n",
      "0     AAACCCAAGCCGATCC-1\n",
      "1     AAACCCAAGTACAGCG-1\n",
      "2     AAACCCAGTGCTGATT-1\n",
      "3     AAACCCAGTTTGGCTA-1\n",
      "4     AAACCCATCACTTGGA-1\n",
      "...                  ...\n",
      "9241  TTTGTTGCATCTCAAG-1\n",
      "9242  TTTGTTGGTAGACGTG-1\n",
      "9243  TTTGTTGGTGAGCGAT-1\n",
      "9244  TTTGTTGGTTCTCTAT-1\n",
      "9245  TTTGTTGTCACCTCAC-1\n",
      "\n",
      "[9246 rows x 1 columns]\n"
     ]
    }
   ],
   "source": [
    "ldata_index = pd.DataFrame(filtered_ldata.obs.index)\n",
    "ldata_index.columns = ['CellID']\n",
    "print(ldata_index)"
   ]
  },
  {
   "cell_type": "code",
   "execution_count": 13,
   "metadata": {},
   "outputs": [
    {
     "name": "stdout",
     "output_type": "stream",
     "text": [
      "                  CellID    UMAP_1    UMAP_2\n",
      "0     AAACCCAAGCCGATCC-1  0.153307 -7.623546\n",
      "1     AAACCCAAGTACAGCG-1  5.897146  2.633477\n",
      "2     AAACCCAGTGCTGATT-1 -5.536019 -6.625185\n",
      "3     AAACCCAGTTTGGCTA-1 -7.391526 -0.720508\n",
      "4     AAACCCATCACTTGGA-1 -2.355847 -5.528623\n",
      "...                  ...       ...       ...\n",
      "9739  TTTGTTGGTAGACGTG-1 -1.424601 -6.192325\n",
      "9740  TTTGTTGGTGAGCGAT-1  6.826642  9.918284\n",
      "9741  TTTGTTGGTTCTCTAT-1  3.751490  3.653710\n",
      "9742  TTTGTTGTCACCTCAC-1 -3.714295  2.119375\n",
      "9743  TTTGTTGTCGGATAAA-1 -5.586266 -0.573459\n",
      "\n",
      "[9744 rows x 3 columns]\n"
     ]
    }
   ],
   "source": [
    "umap_cord = umap_cord.rename(columns = {'Unnamed: 0':'CellID'})\n",
    "umap_ordered = ldata_index.merge(umap_cord, on = \"CellID\")\n",
    "print(umap_cord)"
   ]
  },
  {
   "cell_type": "code",
   "execution_count": 14,
   "metadata": {},
   "outputs": [],
   "source": [
    "umap_ordered = umap_ordered.iloc[:,1:]\n",
    "filtered_ldata.obsm['X_umap'] = umap_ordered.values"
   ]
  },
  {
   "cell_type": "code",
   "execution_count": 15,
   "metadata": {},
   "outputs": [
    {
     "name": "stdout",
     "output_type": "stream",
     "text": [
      "                  CellID                                      x\n",
      "0     AAACCCAAGCCGATCC-1                          Neuroectoderm\n",
      "1     AAACCCAAGTACAGCG-1                              Notochord\n",
      "2     AAACCCAGTGCTGATT-1            Neuromesodermal progenitors\n",
      "3     AAACCCAGTTTGGCTA-1            Primitive streak (cluster4)\n",
      "4     AAACCCATCACTTGGA-1            Neuromesodermal progenitors\n",
      "...                  ...                                    ...\n",
      "9241  TTTGTTGCATCTCAAG-1            Primitive streak (cluster4)\n",
      "9242  TTTGTTGGTAGACGTG-1                          Neuroectoderm\n",
      "9243  TTTGTTGGTGAGCGAT-1                       Cardiac mesoderm\n",
      "9244  TTTGTTGGTTCTCTAT-1  Lateral/paraxial mesoderm progenitors\n",
      "9245  TTTGTTGTCACCTCAC-1            Primitive streak (cluster3)\n",
      "\n",
      "[9246 rows x 2 columns]\n"
     ]
    }
   ],
   "source": [
    "cell_clusters = cell_clusters.rename(columns = {'Unnamed: 0':'CellID'})\n",
    "cell_clusters = ldata_index.merge(cell_clusters, on = \"CellID\")\n",
    "print(cell_clusters)"
   ]
  },
  {
   "cell_type": "code",
   "execution_count": 16,
   "metadata": {},
   "outputs": [
    {
     "name": "stdout",
     "output_type": "stream",
     "text": [
      "AnnData object with n_obs × n_vars = 9246 × 61544\n",
      "    obs: 'batch', 'seurat_clusters'\n",
      "    var: 'Accession', 'Chromosome', 'End', 'Start', 'Strand'\n",
      "    obsm: 'X_umap'\n",
      "    layers: 'ambiguous', 'matrix', 'spliced', 'unspliced'\n"
     ]
    }
   ],
   "source": [
    "cell_clusters = cell_clusters.iloc[:,1:]\n",
    "filtered_ldata.obs['seurat_clusters'] = cell_clusters.values\n",
    "print(filtered_ldata)"
   ]
  },
  {
   "cell_type": "code",
   "execution_count": 17,
   "metadata": {},
   "outputs": [],
   "source": [
    "filtered_ldata.write(results_file)"
   ]
  },
  {
   "cell_type": "code",
   "execution_count": null,
   "metadata": {},
   "outputs": [],
   "source": []
  }
 ],
 "metadata": {
  "kernelspec": {
   "display_name": "Python 3",
   "language": "python",
   "name": "python3"
  },
  "language_info": {
   "codemirror_mode": {
    "name": "ipython",
    "version": 3
   },
   "file_extension": ".py",
   "mimetype": "text/x-python",
   "name": "python",
   "nbconvert_exporter": "python",
   "pygments_lexer": "ipython3",
   "version": "3.7.12"
  }
 },
 "nbformat": 4,
 "nbformat_minor": 2
}
